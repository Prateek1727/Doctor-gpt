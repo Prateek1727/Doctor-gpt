{
 "cells": [
  {
   "cell_type": "code",
   "execution_count": null,
   "id": "6d1dd547",
   "metadata": {},
   "outputs": [],
   "source": [
    "%pwd"
   ]
  },
  {
   "cell_type": "code",
   "execution_count": null,
   "id": "e04a4a88",
   "metadata": {},
   "outputs": [],
   "source": [
    "import os\n",
    "from langchain.embeddings import HuggingFaceEmbeddings\n",
    "from pinecone import Pinecone\n",
    "from langchain_pinecone import PineconeVectorStore\n",
    "from dotenv import load_dotenv\n",
    "from langchain_groq import ChatGroq\n",
    "from langchain_core.output_parsers import StrOutputParser\n",
    "from langchain_core.prompts.prompt import PromptTemplate\n",
    "from loguru import logger\n",
    "\n",
    "load_dotenv()\n",
    "\n",
    "os.environ['GROQ_API_KEY'] = os.getenv(\"GROQ_API_KEY\")"
   ]
  },
  {
   "cell_type": "code",
   "execution_count": null,
   "id": "42ee0107",
   "metadata": {},
   "outputs": [],
   "source": [
    "embeddings = HuggingFaceEmbeddings(model_name=\"all-MiniLM-L6-v2\")"
   ]
  },
  {
   "cell_type": "code",
   "execution_count": null,
   "id": "11469adc",
   "metadata": {},
   "outputs": [],
   "source": [
    "PINECONE_API_KEY = os.environ.get('PINECONE_API_KEY')\n",
    "pc = Pinecone(api_key=PINECONE_API_KEY)\n",
    "index_name = \"medicalchatbot\"\n",
    "index = pc.Index(index_name)"
   ]
  },
  {
   "cell_type": "code",
   "execution_count": null,
   "id": "7f2d6a3c",
   "metadata": {},
   "outputs": [],
   "source": [
    "vector_store = PineconeVectorStore(index=index, embedding=embeddings)"
   ]
  },
  {
   "cell_type": "code",
   "execution_count": null,
   "id": "52e13719",
   "metadata": {},
   "outputs": [],
   "source": [
    "def search_db(user_query: str) -> list:\n",
    "    sim_docs =[]\n",
    "    result = vector_store.similarity_search_with_score(\n",
    "    user_query, k=3\n",
    "    )\n",
    "    for doc in result:\n",
    "        sim_docs.append(doc[0].page_content)\n",
    "    \n",
    "    return sim_docs    "
   ]
  },
  {
   "cell_type": "code",
   "execution_count": null,
   "id": "4314a0ec",
   "metadata": {},
   "outputs": [],
   "source": [
    "search = search_db(user_query=\"What is candidiasis?\")"
   ]
  },
  {
   "cell_type": "code",
   "execution_count": null,
   "id": "3f1ffd12",
   "metadata": {},
   "outputs": [],
   "source": [
    "search"
   ]
  },
  {
   "cell_type": "code",
   "execution_count": null,
   "id": "29e8c4dc",
   "metadata": {},
   "outputs": [],
   "source": [
    "# ---------------------------- LLM --------------------------------------\n",
    "llm = ChatGroq(model_name=\"llama-3.3-70b-versatile\", temperature=0.5)"
   ]
  },
  {
   "cell_type": "code",
   "execution_count": null,
   "id": "1b43feef",
   "metadata": {},
   "outputs": [],
   "source": [
    "def medicalbot_ai(user_query: str, doc_list: list) -> str:\n",
    "    template = \"\"\"\n",
    "    You are a medical consultant AI chatbot. Your role is to provide accurate and reliable answers to user questions based on the provided documents. Use the information from the `doc_list` to address the `user_query` thoroughly and correctly. Ensure that your response is:\n",
    "\n",
    "    - **Accurate:** Base your answers solely on the information in the provided documents.\n",
    "    - **Conversational:** Maintain a friendly and approachable tone.\n",
    "    - **Mature and Consultancy-Oriented:** Present information in a professional and trustworthy manner.\n",
    "\n",
    "    **Inputs:**\n",
    "    1. `user_query`: {user_query} The question posed by the user.\n",
    "    2. `doc_list`: {doc_list} A list of documents containing relevant information related to the user's question.\n",
    "\n",
    "    **Instructions:**\n",
    "    - Analyze the `user_query` and identify the key information needed to answer it.\n",
    "    - Review the `doc_list` to find relevant information that addresses the query.\n",
    "    - Construct a response that is clear, concise, and directly answers the user's question using the information from the documents.\n",
    "    - Avoid introducing information not present in the `doc_list`.\n",
    "    - If the `user_query` have nothing similar to what is in the `doc_list`, return document not found or something in an apologetic way, tell the user to ask for something related to the context.\n",
    "    - If the  `user_query` is an empty string, respond with \"Please provide a valid query.\".\n",
    "    - Maintain a tone that is both professional and empathetic, suitable for a consultancy setting.\n",
    "    \n",
    "    Return the answer as the only output. \n",
    "    Always make sure that you're returning the answer without any explanation. \n",
    "    The output should be the answer alone.\n",
    "    Always return this: \"Please provide a valid query.\" for empty query.\n",
    "    \"\"\"\n",
    "    question_prompt = PromptTemplate(input_variables=[\"user_query\", \"doc_list\"], template=template)\n",
    "    initiator_router = question_prompt | llm | StrOutputParser()\n",
    "    output = initiator_router.invoke({\"user_query\":user_query, \"doc_list\":doc_list})\n",
    "    return output"
   ]
  },
  {
   "cell_type": "code",
   "execution_count": null,
   "id": "cd79b958",
   "metadata": {},
   "outputs": [],
   "source": [
    "answer_1 = medicalbot_ai(user_query=\"What is Candidiasis?\", doc_list=search)"
   ]
  },
  {
   "cell_type": "code",
   "execution_count": null,
   "id": "fe4bc56a",
   "metadata": {},
   "outputs": [],
   "source": [
    "def medical_chatbot(user_query: str)-> str:\n",
    "    logger.info(\"Searching for similar Docs in the Vec DB\")\n",
    "    doc_list = search_db(user_query=user_query)\n",
    "    logger.info(\"Calling the medicalbot ai to get answer\")\n",
    "    answer = medicalbot_ai(user_query=user_query, doc_list=doc_list)\n",
    "    logger.info(\"Returning the Final Answer\")\n",
    "    return answer"
   ]
  },
  {
   "cell_type": "code",
   "execution_count": null,
   "id": "6bbc2463",
   "metadata": {},
   "outputs": [],
   "source": [
    "question_1 = \"What is Candidiasis?\"\n",
    "question_2 = \"what is Carpal tunnel syndrome?\"\n",
    "question_3 = \"what is the treatment of Carpal tunnel syndrome?\"\n",
    "question_4 = \"What is the treatment of Candidiasis?\""
   ]
  },
  {
   "cell_type": "code",
   "execution_count": null,
   "id": "52690fa7",
   "metadata": {},
   "outputs": [],
   "source": [
    "answer_1 = medical_chatbot(user_query=question_1)\n",
    "print(answer_1)"
   ]
  },
  {
   "cell_type": "code",
   "execution_count": null,
   "id": "761e0892",
   "metadata": {},
   "outputs": [],
   "source": [
    "answer_2 = medical_chatbot(user_query=question_2)\n",
    "print(answer_2)"
   ]
  },
  {
   "cell_type": "code",
   "execution_count": null,
   "id": "2fa70644",
   "metadata": {},
   "outputs": [],
   "source": [
    "answer_3 = medical_chatbot(user_query=question_3)\n",
    "print(answer_3)"
   ]
  },
  {
   "cell_type": "code",
   "execution_count": null,
   "id": "ca5d29e0",
   "metadata": {},
   "outputs": [],
   "source": [
    "answer_4 = medical_chatbot(user_query=question_4)\n",
    "print(answer_4)"
   ]
  },
  {
   "cell_type": "code",
   "execution_count": null,
   "id": "ed2fe29c",
   "metadata": {},
   "outputs": [],
   "source": [
    "test_5 = medical_chatbot(\"What is Deep Learning?\")\n",
    "print(test_5)"
   ]
  },
  {
   "cell_type": "code",
   "execution_count": null,
   "id": "f56fee57",
   "metadata": {},
   "outputs": [],
   "source": [
    "test_5 = medical_chatbot(\"\")\n",
    "print(test_5)"
   ]
  }
 ],
 "metadata": {
  "kernelspec": {
   "display_name": "medichatbot",
   "language": "python",
   "name": "python3"
  },
  "language_info": {
   "name": "python",
   "version": "3.10.16"
  }
 },
 "nbformat": 4,
 "nbformat_minor": 5
}
